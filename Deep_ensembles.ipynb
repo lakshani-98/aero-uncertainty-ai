{
  "nbformat": 4,
  "nbformat_minor": 0,
  "metadata": {
    "colab": {
      "provenance": []
    },
    "kernelspec": {
      "name": "python3",
      "display_name": "Python 3"
    },
    "language_info": {
      "name": "python"
    }
  },
  "cells": [
    {
      "cell_type": "markdown",
      "source": [
        "✅ 🎯 Goal:\n",
        "Train multiple neural networks (ensemble) on the Aircraft Pitch Prediction dataset to:\n",
        "\n",
        "Predict the target (pitch).\n",
        "\n",
        "Measure the uncertainty by looking at the variance across model predictions.\n",
        "\n",
        "⚙️ Requirements\n",
        "You'll need:\n",
        "\n",
        "train.csv from the Aircraft Pitch Challenge.\n",
        "\n",
        "TensorFlow and standard Python ML libraries."
      ],
      "metadata": {
        "id": "nVARk1mQKCKf"
      }
    },
    {
      "cell_type": "markdown",
      "source": [
        "#Install & Import Libraries"
      ],
      "metadata": {
        "id": "Dm9tUh1BNMBq"
      }
    },
    {
      "cell_type": "code",
      "execution_count": null,
      "metadata": {
        "id": "_8o4agmgISR9"
      },
      "outputs": [],
      "source": [
        "!pip install -q tensorflow scikit-learn pandas matplotlib seaborn\n",
        "\n",
        "import pandas as pd\n",
        "import numpy as np\n",
        "import tensorflow as tf\n",
        "from tensorflow.keras import layers, models\n",
        "from sklearn.model_selection import train_test_split\n",
        "from sklearn.preprocessing import StandardScaler\n",
        "from sklearn.metrics import mean_squared_error, mean_absolute_error, r2_score\n",
        "import matplotlib.pyplot as plt\n",
        "import seaborn as sns\n"
      ]
    },
    {
      "cell_type": "code",
      "source": [
        "# Load into DataFrame\n",
        "df = pd.read_csv(\"train.csv\")\n",
        "print(df.head())\n",
        "\n",
        "# Check column names\n",
        "print(df.columns)\n"
      ],
      "metadata": {
        "colab": {
          "base_uri": "https://localhost:8080/"
        },
        "id": "yYpawUV2JxMo",
        "outputId": "39bc0d9c-acb7-4d5d-db3a-b7838f85265f"
      },
      "execution_count": null,
      "outputs": [
        {
          "output_type": "stream",
          "name": "stdout",
          "text": [
            "   CbRt  SGZ     P     Q  CrRl  AbRl  DfClb  DfRlRt  DfDfClb     ST1     ST2  \\\n",
            "0  -437   10 -0.34  0.15  -0.4   -20      4  -0.017     -0.4 -0.0013 -0.0016   \n",
            "1  -282  -34 -0.40  0.00   0.3   -10     -5  -0.020      1.6 -0.0010 -0.0010   \n",
            "2   -90  -20 -0.21 -0.02   0.2    -8      3  -0.004     -0.2 -0.0005 -0.0006   \n",
            "3  -164    0  0.19  0.08   2.0   -11    -12  -0.009      0.5 -0.0009 -0.0008   \n",
            "4     8  -36  0.41  0.09   1.8   -19      9  -0.022     -0.1 -0.0021 -0.0022   \n",
            "\n",
            "      ST3     ST4   DfST1  DfST2   DfST3  DfST4      Sa  Target  \n",
            "0 -0.0016 -0.0016  0.0003      0  0.0000      0 -0.0016   0.022  \n",
            "1 -0.0010 -0.0010  0.0000      0  0.0000      0 -0.0010   0.016  \n",
            "2 -0.0006 -0.0006  0.0000      0  0.0000      0 -0.0006   0.019  \n",
            "3 -0.0008 -0.0008 -0.0002      0 -0.0001      0 -0.0008   0.017  \n",
            "4 -0.0022 -0.0024  0.0001      0  0.0001      0 -0.0024   0.036  \n",
            "Index(['CbRt', 'SGZ', 'P', 'Q', 'CrRl', 'AbRl', 'DfClb', 'DfRlRt', 'DfDfClb',\n",
            "       'ST1', 'ST2', 'ST3', 'ST4', 'DfST1', 'DfST2', 'DfST3', 'DfST4', 'Sa',\n",
            "       'Target'],\n",
            "      dtype='object')\n"
          ]
        }
      ]
    },
    {
      "cell_type": "markdown",
      "source": [
        "#Preprocess Data"
      ],
      "metadata": {
        "id": "sF9MOLUmKGLO"
      }
    },
    {
      "cell_type": "code",
      "source": [
        "# Split features and target\n",
        "X = df.drop(columns=[\"Target\"])\n",
        "y = df[\"Target\"]\n",
        "\n",
        "# Train-validation split\n",
        "X_train, X_val, y_train, y_val = train_test_split(X, y, test_size=0.2, random_state=42)\n",
        "\n",
        "# Normalize features\n",
        "scaler = StandardScaler()\n",
        "X_train_scaled = scaler.fit_transform(X_train)\n",
        "X_val_scaled = scaler.transform(X_val)\n"
      ],
      "metadata": {
        "id": "XuwJddi7J0M8"
      },
      "execution_count": null,
      "outputs": []
    },
    {
      "cell_type": "markdown",
      "source": [
        "#Define Model Function"
      ],
      "metadata": {
        "id": "KxruCMimKMCI"
      }
    },
    {
      "cell_type": "code",
      "source": [
        "def build_model(input_dim):\n",
        "    model = models.Sequential([\n",
        "        layers.Input(shape=(input_dim,)),\n",
        "        layers.Dense(64, activation='relu'),\n",
        "        layers.Dense(64, activation='relu'),\n",
        "        layers.Dense(1)\n",
        "    ])\n",
        "    model.compile(optimizer='adam', loss='mse')\n",
        "    return model\n"
      ],
      "metadata": {
        "id": "FRs0khc9J2Xc"
      },
      "execution_count": null,
      "outputs": []
    },
    {
      "cell_type": "markdown",
      "source": [
        "#Train Deep Ensemble Models"
      ],
      "metadata": {
        "id": "nVx2pro4KO9l"
      }
    },
    {
      "cell_type": "code",
      "source": [
        "n_ensemble = 5\n",
        "ensemble_models = []\n",
        "\n",
        "for i in range(n_ensemble):\n",
        "    print(f\"Training model {i+1}\")\n",
        "    model = build_model(X_train_scaled.shape[1])\n",
        "    model.fit(X_train_scaled, y_train, epochs=50, batch_size=32, verbose=0)\n",
        "    ensemble_models.append(model)\n"
      ],
      "metadata": {
        "colab": {
          "base_uri": "https://localhost:8080/"
        },
        "id": "QhBFpdU-J55R",
        "outputId": "08f76f8a-885d-47a0-d345-be279217b039"
      },
      "execution_count": null,
      "outputs": [
        {
          "output_type": "stream",
          "name": "stdout",
          "text": [
            "Training model 1\n",
            "Training model 2\n",
            "Training model 3\n",
            "Training model 4\n",
            "Training model 5\n"
          ]
        }
      ]
    },
    {
      "cell_type": "markdown",
      "source": [
        "#Predict & Estimate Uncertainty"
      ],
      "metadata": {
        "id": "msuw6ux6KUvW"
      }
    },
    {
      "cell_type": "code",
      "source": [
        "# Get predictions from each model\n",
        "ensemble_preds = np.array([model.predict(X_val_scaled).flatten() for model in ensemble_models])\n",
        "\n",
        "# Mean prediction\n",
        "mean_preds = ensemble_preds.mean(axis=0)\n",
        "\n",
        "# Uncertainty (standard deviation across model outputs)\n",
        "std_preds = ensemble_preds.std(axis=0)\n"
      ],
      "metadata": {
        "colab": {
          "base_uri": "https://localhost:8080/"
        },
        "id": "MvHKknLZJ6y9",
        "outputId": "0d233ac1-5ef4-4180-d542-08a3dc9f3587"
      },
      "execution_count": null,
      "outputs": [
        {
          "output_type": "stream",
          "name": "stdout",
          "text": [
            "\u001b[1m25/25\u001b[0m \u001b[32m━━━━━━━━━━━━━━━━━━━━\u001b[0m\u001b[37m\u001b[0m \u001b[1m0s\u001b[0m 2ms/step \n",
            "\u001b[1m25/25\u001b[0m \u001b[32m━━━━━━━━━━━━━━━━━━━━\u001b[0m\u001b[37m\u001b[0m \u001b[1m0s\u001b[0m 2ms/step \n",
            "\u001b[1m25/25\u001b[0m \u001b[32m━━━━━━━━━━━━━━━━━━━━\u001b[0m\u001b[37m\u001b[0m \u001b[1m0s\u001b[0m 2ms/step \n",
            "\u001b[1m25/25\u001b[0m \u001b[32m━━━━━━━━━━━━━━━━━━━━\u001b[0m\u001b[37m\u001b[0m \u001b[1m0s\u001b[0m 2ms/step \n",
            "\u001b[1m25/25\u001b[0m \u001b[32m━━━━━━━━━━━━━━━━━━━━\u001b[0m\u001b[37m\u001b[0m \u001b[1m0s\u001b[0m 2ms/step \n"
          ]
        }
      ]
    },
    {
      "cell_type": "markdown",
      "source": [
        "#Evaluate Models"
      ],
      "metadata": {
        "id": "k7hah3wkNoYJ"
      }
    },
    {
      "cell_type": "code",
      "source": [
        "mse = mean_squared_error(y_val, mean_preds)\n",
        "mae = mean_absolute_error(y_val, mean_preds)\n",
        "r2 = r2_score(y_val, mean_preds)\n",
        "\n",
        "print(\"🔍 Evaluation Metrics:\")\n",
        "print(f\"Mean Squared Error (MSE): {mse:.2f}\")\n",
        "print(f\"Mean Absolute Error (MAE): {mae:.2f}\")\n",
        "print(f\"R² Score: {r2:.2f}\")\n"
      ],
      "metadata": {
        "colab": {
          "base_uri": "https://localhost:8080/"
        },
        "id": "jWIzTI5SNqcc",
        "outputId": "390081ea-532f-43ac-cbb8-9d89af9c8599"
      },
      "execution_count": null,
      "outputs": [
        {
          "output_type": "stream",
          "name": "stdout",
          "text": [
            "🔍 Evaluation Metrics:\n",
            "Mean Squared Error (MSE): 0.00\n",
            "Mean Absolute Error (MAE): 0.00\n",
            "R² Score: 0.39\n"
          ]
        }
      ]
    },
    {
      "cell_type": "markdown",
      "source": [
        "#Display Sample Results"
      ],
      "metadata": {
        "id": "tSG4WIAXKX9l"
      }
    },
    {
      "cell_type": "code",
      "source": [
        "for i in range(10):\n",
        "    print(f\"Sample {i+1}\")\n",
        "    print(f\"  True Target       : {y_val.iloc[i]:.2f}\")\n",
        "    print(f\"  Predicted Target  : {mean_preds[i]:.2f}\")\n",
        "    print(f\"  Uncertainty (±2σ) : ±{2 * std_preds[i]:.2f}\")\n"
      ],
      "metadata": {
        "colab": {
          "base_uri": "https://localhost:8080/"
        },
        "id": "b8fttZYHJ8tj",
        "outputId": "f06ab352-5cce-4a62-cf09-be0f674465ad"
      },
      "execution_count": null,
      "outputs": [
        {
          "output_type": "stream",
          "name": "stdout",
          "text": [
            "Sample 1\n",
            "  True Target       : 0.03\n",
            "  Predicted Target  : 0.04\n",
            "  Uncertainty (±2σ) : ±0.03\n",
            "Sample 2\n",
            "  True Target       : 0.02\n",
            "  Predicted Target  : 0.02\n",
            "  Uncertainty (±2σ) : ±0.01\n",
            "Sample 3\n",
            "  True Target       : 0.03\n",
            "  Predicted Target  : 0.02\n",
            "  Uncertainty (±2σ) : ±0.01\n",
            "Sample 4\n",
            "  True Target       : 0.02\n",
            "  Predicted Target  : 0.02\n",
            "  Uncertainty (±2σ) : ±0.02\n",
            "Sample 5\n",
            "  True Target       : 0.02\n",
            "  Predicted Target  : 0.02\n",
            "  Uncertainty (±2σ) : ±0.03\n",
            "Sample 6\n",
            "  True Target       : 0.03\n",
            "  Predicted Target  : 0.02\n",
            "  Uncertainty (±2σ) : ±0.01\n",
            "Sample 7\n",
            "  True Target       : 0.02\n",
            "  Predicted Target  : 0.02\n",
            "  Uncertainty (±2σ) : ±0.00\n",
            "Sample 8\n",
            "  True Target       : 0.02\n",
            "  Predicted Target  : 0.03\n",
            "  Uncertainty (±2σ) : ±0.01\n",
            "Sample 9\n",
            "  True Target       : 0.02\n",
            "  Predicted Target  : 0.02\n",
            "  Uncertainty (±2σ) : ±0.02\n",
            "Sample 10\n",
            "  True Target       : 0.02\n",
            "  Predicted Target  : 0.02\n",
            "  Uncertainty (±2σ) : ±0.01\n"
          ]
        }
      ]
    },
    {
      "cell_type": "markdown",
      "source": [
        "#Visualization of Predictions with Uncertainty"
      ],
      "metadata": {
        "id": "okteEAHqN0WY"
      }
    },
    {
      "cell_type": "code",
      "source": [
        "plt.figure(figsize=(12,6))\n",
        "plt.errorbar(range(50), mean_preds[:50], yerr=2*std_preds[:50], fmt='o', label='Predicted ± Uncertainty')\n",
        "plt.plot(range(50), y_val.values[:50], 'r-', label='True Target')\n",
        "plt.xlabel(\"Sample Index\")\n",
        "plt.ylabel(\"Target\")\n",
        "plt.title(\"Deep Ensemble Predictions with Uncertainty\")\n",
        "plt.legend()\n",
        "plt.grid(True)\n",
        "plt.show()\n"
      ],
      "metadata": {
        "colab": {
          "base_uri": "https://localhost:8080/",
          "height": 564
        },
        "id": "1OvjKbSEN1lw",
        "outputId": "1ab8251a-9cf2-44d5-9e01-73d01763e098"
      },
      "execution_count": null,
      "outputs": [
        {
          "output_type": "display_data",
          "data": {
            "text/plain": [
              "<Figure size 1200x600 with 1 Axes>"
            ],
            "image/png": "[encoded data removed]"
          },
          "metadata": {}
        }
      ]
    }
  ]
}